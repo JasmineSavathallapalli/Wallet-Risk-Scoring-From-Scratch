{
  "nbformat": 4,
  "nbformat_minor": 0,
  "metadata": {
    "colab": {
      "provenance": []
    },
    "kernelspec": {
      "name": "python3",
      "display_name": "Python 3"
    },
    "language_info": {
      "name": "python"
    }
  },
  "cells": [
    {
      "cell_type": "code",
      "source": [
        "import pandas as pd\n",
        "\n",
        "wallet_df = pd.read_csv('/content/Wallet id - Sheet1.csv')\n",
        "\n",
        "wallet_df.columns = wallet_df.columns.str.strip()\n",
        "wallet_df.rename(columns={wallet_df.columns[0]: 'wallet_id'}, inplace=True)\n",
        "\n",
        "print(wallet_df.head())\n",
        "print(\"Total wallets:\", len(wallet_df))\n"
      ],
      "metadata": {
        "colab": {
          "base_uri": "https://localhost:8080/"
        },
        "id": "9a2xBut62q7t",
        "outputId": "e44b4a29-99e8-4390-e590-504d093cbc32"
      },
      "execution_count": 42,
      "outputs": [
        {
          "output_type": "stream",
          "name": "stdout",
          "text": [
            "                                    wallet_id\n",
            "0  0x0039f22efb07a647557c7c5d17854cfd6d489ef3\n",
            "1  0x06b51c6882b27cb05e712185531c1f74996dd988\n",
            "2  0x0795732aacc448030ef374374eaae57d2965c16c\n",
            "3  0x0aaa79f1a86bc8136cd0d1ca0d51964f4e3766f9\n",
            "4  0x0fe383e5abc200055a7f391f94a5f5d1f844b9ae\n",
            "Total wallets: 103\n"
          ]
        }
      ]
    },
    {
      "cell_type": "markdown",
      "source": [
        " Fetch Transaction History from Compound V2/V3"
      ],
      "metadata": {
        "id": "8AaEavH8CAJ9"
      }
    },
    {
      "cell_type": "code",
      "source": [
        "import requests\n",
        "import pandas as pd\n",
        "import time\n",
        "\n",
        "wallet_df = pd.read_csv('/content/Wallet id - Sheet1.csv')\n",
        "wallet_addresses = wallet_df.iloc[:, 0].dropna().unique().tolist()\n",
        "print(f\"Loaded {len(wallet_addresses)} wallet addresses.\")\n",
        "\n",
        "API_KEY = \"cqt_rQmwcFtPV7GFDh8hqhQKCQvmMfmt\"\n",
        "\n",
        "chain_id = 1\n",
        "\n",
        "sample_wallets = wallet_addresses[:2]\n",
        "\n",
        "def fetch_transactions(wallet):\n",
        "    url = f\"https://api.covalenthq.com/v1/{chain_id}/address/{wallet}/transactions_v2/?key={API_KEY}\"\n",
        "    response = requests.get(url)\n",
        "\n",
        "    if response.status_code == 200:\n",
        "        return response.json()\n",
        "    else:\n",
        "        print(f\"Error fetching {wallet}: Status Code {response.status_code}\")\n",
        "        return None\n",
        "\n",
        "for wallet in sample_wallets:\n",
        "    print(f\"\\nFetching transactions for: {wallet}\")\n",
        "    data = fetch_transactions(wallet)\n",
        "    if data and data.get(\"data\"):\n",
        "        txs = data[\"data\"].get(\"items\", [])\n",
        "        print(f\"   Total Transactions Fetched: {len(txs)}\")\n",
        "        if txs:\n",
        "            print(\"  Sample Transaction:\")\n",
        "            print(f\"     Hash: {txs[0].get('tx_hash')}\")\n",
        "            print(f\"     From: {txs[0].get('from_address')}\")\n",
        "            print(f\"     To:   {txs[0].get('to_address')}\")\n",
        "            print(f\"     Value: {txs[0].get('value')}\")\n",
        "    time.sleep(1)\n"
      ],
      "metadata": {
        "colab": {
          "base_uri": "https://localhost:8080/"
        },
        "id": "eCsuXBXS7iqz",
        "outputId": "92102c1a-90a4-4b28-9f9b-76707ba4dd06"
      },
      "execution_count": 43,
      "outputs": [
        {
          "output_type": "stream",
          "name": "stdout",
          "text": [
            "Loaded 103 wallet addresses.\n",
            "\n",
            "Fetching transactions for: 0x0039f22efb07a647557c7c5d17854cfd6d489ef3\n",
            "   Total Transactions Fetched: 100\n",
            "  Sample Transaction:\n",
            "     Hash: 0x98703fb4a7c6804d82e98f009ecc0e089abd53de94696088fb9675dde740c570\n",
            "     From: 0xc6b602de080fc9ac9d96a431b2d749d38e77cbbc\n",
            "     To:   0x13173761e24c3708495b1dd314920f67f97011d0\n",
            "     Value: 0\n",
            "\n",
            "Fetching transactions for: 0x06b51c6882b27cb05e712185531c1f74996dd988\n",
            "   Total Transactions Fetched: 5\n",
            "  Sample Transaction:\n",
            "     Hash: 0x2ef861c6dee8c0e5b9a6a621d5b7b2a92cf841cd2c2351a6f33a20ca88ad3c4e\n",
            "     From: 0x06b51c6882b27cb05e712185531c1f74996dd988\n",
            "     To:   0x993035f1abf433ef36c39e3a5a260174a6919c31\n",
            "     Value: 5701850000000000\n"
          ]
        }
      ]
    },
    {
      "cell_type": "markdown",
      "source": [
        "using your Covalent API key to  Fetch Compound Transactions"
      ],
      "metadata": {
        "id": "lmcjuirNCaGx"
      }
    },
    {
      "cell_type": "code",
      "source": [
        "import requests\n",
        "import pandas as pd\n",
        "import time\n",
        "import json\n",
        "\n",
        "wallet_df = pd.read_csv('/content/Wallet id - Sheet1.csv')\n",
        "wallet_addresses = wallet_df.iloc[:, 0].dropna().unique().tolist()\n",
        "print(f\"Loaded {len(wallet_addresses)} wallet addresses.\")\n",
        "\n",
        "API_KEY = \"cqt_rQmwcFtPV7GFDh8hqhQKCQvmMfmt\"\n",
        "chain_id = 1\n",
        "\n",
        "wallet_transactions = {}\n",
        "\n",
        "def fetch_transactions(wallet):\n",
        "    url = f\"https://api.covalenthq.com/v1/{chain_id}/address/{wallet}/transactions_v2/?key={API_KEY}\"\n",
        "    response = requests.get(url)\n",
        "    if response.status_code == 200:\n",
        "        return response.json()\n",
        "    else:\n",
        "        print(f\"Error fetching {wallet}: Status Code {response.status_code}\")\n",
        "        return None\n",
        "\n",
        "for i, wallet in enumerate(wallet_addresses):\n",
        "    print(f\"[{i+1}/{len(wallet_addresses)}] Fetching: {wallet}\")\n",
        "    data = fetch_transactions(wallet)\n",
        "    if data and data.get(\"data\"):\n",
        "        txns = data[\"data\"].get(\"items\", [])\n",
        "        wallet_transactions[wallet] = txns\n",
        "        print(f\"   Fetched {len(txns)} transactions.\")\n",
        "    else:\n",
        "        wallet_transactions[wallet] = []\n",
        "        print(\"    No data or error.\")\n",
        "\n",
        "    time.sleep(1)\n",
        "\n",
        "with open('/content/wallet_transactions.json', 'w') as f:\n",
        "    json.dump(wallet_transactions, f)\n",
        "\n",
        "print(\"\\nAll transactions fetched and saved to wallet_transactions.json\")\n"
      ],
      "metadata": {
        "colab": {
          "base_uri": "https://localhost:8080/"
        },
        "id": "eoQFrxyV7vEd",
        "outputId": "5c9ad3ed-b9e7-47e2-fc16-990860b29762"
      },
      "execution_count": 44,
      "outputs": [
        {
          "output_type": "stream",
          "name": "stdout",
          "text": [
            "Loaded 103 wallet addresses.\n",
            "[1/103] Fetching: 0x0039f22efb07a647557c7c5d17854cfd6d489ef3\n",
            "   Fetched 100 transactions.\n",
            "[2/103] Fetching: 0x06b51c6882b27cb05e712185531c1f74996dd988\n",
            "   Fetched 5 transactions.\n",
            "[3/103] Fetching: 0x0795732aacc448030ef374374eaae57d2965c16c\n",
            "   Fetched 4 transactions.\n",
            "[4/103] Fetching: 0x0aaa79f1a86bc8136cd0d1ca0d51964f4e3766f9\n",
            "   Fetched 80 transactions.\n",
            "[5/103] Fetching: 0x0fe383e5abc200055a7f391f94a5f5d1f844b9ae\n",
            "   Fetched 5 transactions.\n",
            "[6/103] Fetching: 0x104ae61d8d487ad689969a17807ddc338b445416\n",
            "   Fetched 6 transactions.\n",
            "[7/103] Fetching: 0x111c7208a7e2af345d36b6d4aace8740d61a3078\n",
            "   Fetched 6 transactions.\n",
            "[8/103] Fetching: 0x124853fecb522c57d9bd5c21231058696ca6d596\n",
            "   Fetched 7 transactions.\n",
            "[9/103] Fetching: 0x13b1c8b0e696aff8b4fee742119b549b605f3cbc\n",
            "   Fetched 4 transactions.\n",
            "[10/103] Fetching: 0x1656f1886c5ab634ac19568cd571bc72f385fdf7\n",
            "   Fetched 100 transactions.\n",
            "[11/103] Fetching: 0x1724e16cb8d0e2aa4d08035bc6b5c56b680a3b22\n",
            "   Fetched 6 transactions.\n",
            "[12/103] Fetching: 0x19df3e87f73c4aaf4809295561465b993e102668\n",
            "   Fetched 31 transactions.\n",
            "[13/103] Fetching: 0x1ab2ccad4fc97c9968ea87d4435326715be32872\n",
            "   Fetched 5 transactions.\n",
            "[14/103] Fetching: 0x1c1b30ca93ef57452d53885d97a74f61daf2bf4f\n",
            "   Fetched 100 transactions.\n",
            "[15/103] Fetching: 0x1e43dacdcf863676a6bec8f7d6896d6252fac669\n",
            "   Fetched 3 transactions.\n",
            "[16/103] Fetching: 0x22d7510588d90ed5a87e0f838391aaafa707c34b\n",
            "   Fetched 76 transactions.\n",
            "[17/103] Fetching: 0x24b3460622d835c56d9a4fe352966b9bdc6c20af\n",
            "   Fetched 22 transactions.\n",
            "[18/103] Fetching: 0x26750f1f4277221bdb5f6991473c6ece8c821f9d\n",
            "   Fetched 7 transactions.\n",
            "[19/103] Fetching: 0x27f72a000d8e9f324583f3a3491ea66998275b28\n",
            "   Fetched 5 transactions.\n",
            "[20/103] Fetching: 0x2844658bf341db96aa247259824f42025e3bcec2\n",
            "   Fetched 4 transactions.\n",
            "[21/103] Fetching: 0x2a2fde3e1beb508fcf7c137a1d5965f13a17825e\n",
            "   Fetched 5 transactions.\n",
            "[22/103] Fetching: 0x330513970efd9e8dd606275fb4c50378989b3204\n",
            "   Fetched 100 transactions.\n",
            "[23/103] Fetching: 0x3361bea43c2f5f963f81ac70f64e6fba1f1d2a97\n",
            "   Fetched 100 transactions.\n",
            "[24/103] Fetching: 0x3867d222ba91236ad4d12c31056626f9e798629c\n",
            "   Fetched 4 transactions.\n",
            "[25/103] Fetching: 0x3a44be4581137019f83021eeee72b7dc57756069\n",
            "   Fetched 4 transactions.\n",
            "[26/103] Fetching: 0x3e69ad05716bdc834db72c4d6d44439a7c8a902b\n",
            "   Fetched 5 transactions.\n",
            "[27/103] Fetching: 0x427f2ac5fdf4245e027d767e7c3ac272a1f40a65\n",
            "   Fetched 100 transactions.\n",
            "[28/103] Fetching: 0x4814be124d7fe3b240eb46061f7ddfab468fe122\n",
            "   Fetched 100 transactions.\n",
            "[29/103] Fetching: 0x4839e666e2baf12a51bf004392b35972eeddeabf\n",
            "   Fetched 20 transactions.\n",
            "[30/103] Fetching: 0x4c4d05fe859279c91b074429b5fc451182cec745\n",
            "   Fetched 4 transactions.\n",
            "[31/103] Fetching: 0x4d997c89bc659a3e8452038a8101161e7e7e53a7\n",
            "   Fetched 100 transactions.\n",
            "[32/103] Fetching: 0x4db0a72edb5ea6c55df929f76e7d5bb14e389860\n",
            "   Fetched 5 transactions.\n",
            "[33/103] Fetching: 0x4e61251336c32e4fe6bfd5fab014846599321389\n",
            "   Fetched 5 transactions.\n",
            "[34/103] Fetching: 0x4e6e724f4163b24ffc7ffe662b5f6815b18b4210\n",
            "   Fetched 6 transactions.\n",
            "[35/103] Fetching: 0x507b6c0d950702f066a9a1bd5e85206f87b065ba\n",
            "   Fetched 43 transactions.\n",
            "[36/103] Fetching: 0x54e19653be9d4143b08994906be0e27555e8834d\n",
            "   Fetched 7 transactions.\n",
            "[37/103] Fetching: 0x56ba823641bfc317afc8459bf27feed6eb9ff59f\n",
            "   Fetched 5 transactions.\n",
            "[38/103] Fetching: 0x56cc2bffcb3f86a30c492f9d1a671a1f744d1d2f\n",
            "   Fetched 8 transactions.\n",
            "[39/103] Fetching: 0x578cea5f899b0dfbf05c7fbcfda1a644b2a47787\n",
            "   Fetched 11 transactions.\n",
            "[40/103] Fetching: 0x58c2a9099a03750e9842d3e9a7780cdd6aa70b86\n",
            "   Fetched 5 transactions.\n",
            "[41/103] Fetching: 0x58d68d4bcf9725e40353379cec92b90332561683\n",
            "   Fetched 55 transactions.\n",
            "[42/103] Fetching: 0x5e324b4a564512ea7c93088dba2f8c1bf046a3eb\n",
            "   Fetched 4 transactions.\n",
            "[43/103] Fetching: 0x612a3500559be7be7703de6dc397afb541a16f7f\n",
            "   Fetched 100 transactions.\n",
            "[44/103] Fetching: 0x623af911f493747c216ad389c7805a37019c662d\n",
            "   Fetched 70 transactions.\n",
            "[45/103] Fetching: 0x6a2752a534faacaaa153bffbb973dd84e0e5497b\n",
            "   Fetched 15 transactions.\n",
            "[46/103] Fetching: 0x6d69ca3711e504658977367e13c300ab198379f1\n",
            "   Fetched 5 transactions.\n",
            "[47/103] Fetching: 0x6e355417f7f56e7927d1cd971f0b5a1e6d538487\n",
            "   Fetched 16 transactions.\n",
            "[48/103] Fetching: 0x70c1864282599a762c674dd9d567b37e13bce755\n",
            "   Fetched 5 transactions.\n",
            "[49/103] Fetching: 0x70d8e4ab175dfe0eab4e9a7f33e0a2d19f44001e\n",
            "   Fetched 100 transactions.\n",
            "[50/103] Fetching: 0x7399dbeebe2f88bc6ac4e3fd7ddb836a4bce322f\n",
            "   Fetched 4 transactions.\n",
            "[51/103] Fetching: 0x767055590c73b7d2aaa6219da13807c493f91a20\n",
            "   Fetched 4 transactions.\n",
            "[52/103] Fetching: 0x7851bdfb64bbecfb40c030d722a1f147dff5db6a\n",
            "   Fetched 9 transactions.\n",
            "[53/103] Fetching: 0x7b4636320daa0bc055368a4f9b9d01bd8ac51877\n",
            "   Fetched 11 transactions.\n",
            "[54/103] Fetching: 0x7b57dbe2f2e4912a29754ff3e412ed9507fd8957\n",
            "   Fetched 7 transactions.\n",
            "[55/103] Fetching: 0x7be3dfb5b6fcbae542ea85e76cc19916a20f6c1e\n",
            "   Fetched 4 transactions.\n",
            "[56/103] Fetching: 0x7de76a449cf60ea3e111ff18b28e516d89532152\n",
            "   Fetched 4 transactions.\n",
            "[57/103] Fetching: 0x7e3eab408b9c76a13305ef34606f17c16f7b33cc\n",
            "   Fetched 15 transactions.\n",
            "[58/103] Fetching: 0x7f5e6a28afc9fb0aaf4259d4ff69991b88ebea47\n",
            "   Fetched 4 transactions.\n",
            "[59/103] Fetching: 0x83ea74c67d393c6894c34c464657bda2183a2f1a\n",
            "   Fetched 7 transactions.\n",
            "[60/103] Fetching: 0x8441fecef5cc6f697be2c4fc4a36feacede8df67\n",
            "   Fetched 24 transactions.\n",
            "[61/103] Fetching: 0x854a873b8f9bfac36a5eb9c648e285a095a7478d\n",
            "   Fetched 4 transactions.\n",
            "[62/103] Fetching: 0x8587d9f794f06d976c2ec1cfd523983b856f5ca9\n",
            "   Fetched 5 transactions.\n",
            "[63/103] Fetching: 0x880a0af12da55df1197f41697c1a1b61670ed410\n",
            "   Fetched 17 transactions.\n",
            "[64/103] Fetching: 0x8aaece100580b749a20f8ce30338c4e0770b65ed\n",
            "   Fetched 5 transactions.\n",
            "[65/103] Fetching: 0x8be38ea2b22b706aef313c2de81f7d179024dd30\n",
            "   Fetched 33 transactions.\n",
            "[66/103] Fetching: 0x8d900f213db5205c529aaba5d10e71a0ed2646db\n",
            "   Fetched 15 transactions.\n",
            "[67/103] Fetching: 0x91919344c1dad09772d19ad8ad4f1bcd29c51f27\n",
            "   Fetched 4 transactions.\n",
            "[68/103] Fetching: 0x93f0891bf71d8abed78e0de0885bd26355bb8b1d\n",
            "   Fetched 5 transactions.\n",
            "[69/103] Fetching: 0x96479b087cb8f236a5e2dcbfc50ce63b2f421da6\n",
            "   Fetched 100 transactions.\n",
            "[70/103] Fetching: 0x96bb4447a02b95f1d1e85374cffd565eb22ed2f8\n",
            "   Fetched 3 transactions.\n",
            "[71/103] Fetching: 0x9a363adc5d382c04d36b09158286328f75672098\n",
            "   Fetched 12 transactions.\n",
            "[72/103] Fetching: 0x9ad1331c5b6c5a641acffb32719c66a80c6e1a17\n",
            "   Fetched 4 transactions.\n",
            "[73/103] Fetching: 0x9ba0d85f71e145ccf15225e59631e5a883d5d74a\n",
            "   Fetched 60 transactions.\n",
            "[74/103] Fetching: 0x9e6ec4e98793970a1307262ba68d37594e58cd78\n",
            "   Fetched 47 transactions.\n",
            "[75/103] Fetching: 0xa7e94d933eb0c439dda357f61244a485246e97b8\n",
            "   Fetched 4 transactions.\n",
            "[76/103] Fetching: 0xa7f3c74f0255796fd5d3ddcf88db769f7a6bf46a\n",
            "   Fetched 100 transactions.\n",
            "[77/103] Fetching: 0xa98dc64bb42575efec7d1e4560c029231ce5da51\n",
            "   Fetched 11 transactions.\n",
            "[78/103] Fetching: 0xb271ff7090b39028eb6e711c3f89a3453d5861ee\n",
            "   Fetched 8 transactions.\n",
            "[79/103] Fetching: 0xb475576594ae44e1f75f534f993cbb7673e4c8b6\n",
            "   Fetched 5 transactions.\n",
            "[80/103] Fetching: 0xb57297c5d02def954794e593db93d0a302e43e5c\n",
            "   Fetched 11 transactions.\n",
            "[81/103] Fetching: 0xbd4a00764217c13a246f86db58d74541a0c3972a\n",
            "   Fetched 100 transactions.\n",
            "[82/103] Fetching: 0xc179d55f7e00e789915760f7d260a1bf6285278b\n",
            "   Fetched 12 transactions.\n",
            "[83/103] Fetching: 0xc22b8e78394ce52e0034609a67ae3c959daa84bc\n",
            "   Fetched 95 transactions.\n",
            "[84/103] Fetching: 0xcbbd9fe837a14258286bbf2e182cbc4e4518c5a3\n",
            "   Fetched 100 transactions.\n",
            "[85/103] Fetching: 0xcecf5163bb057c1aff4963d9b9a7d2f0bf591710\n",
            "   Fetched 5 transactions.\n",
            "[86/103] Fetching: 0xcf0033bf27804640e5339e06443e208db5870dd2\n",
            "   Fetched 5 transactions.\n",
            "[87/103] Fetching: 0xd0df53e296c1e3115fccc3d7cdf4ba495e593b56\n",
            "   Fetched 6 transactions.\n",
            "[88/103] Fetching: 0xd1a3888fd8f490367c6104e10b4154427c02dd9c\n",
            "   Fetched 5 transactions.\n",
            "[89/103] Fetching: 0xd334d18fa6bada9a10f361bae42a019ce88a3c33\n",
            "   Fetched 6 transactions.\n",
            "[90/103] Fetching: 0xd9d3930ffa343f5a0eec7606d045d0843d3a02b4\n",
            "   Fetched 8 transactions.\n",
            "[91/103] Fetching: 0xdde73df7bd4d704a89ad8421402701b3a460c6e9\n",
            "   Fetched 100 transactions.\n",
            "[92/103] Fetching: 0xde92d70253604fd8c5998c8ee3ed282a41b33b7f\n",
            "   Fetched 4 transactions.\n",
            "[93/103] Fetching: 0xded1f838ae6aa5fcd0f13481b37ee88e5bdccb3d\n",
            "   Fetched 12 transactions.\n",
            "[94/103] Fetching: 0xebb8629e8a3ec86cf90cb7600264415640834483\n",
            "   Fetched 8 transactions.\n",
            "[95/103] Fetching: 0xeded1c8c0a0c532195b8432153f3bfa81dba2a90\n",
            "   Fetched 5 transactions.\n",
            "[96/103] Fetching: 0xf10fd8921019615a856c1e95c7cd3632de34edc4\n",
            "   Fetched 76 transactions.\n",
            "[97/103] Fetching: 0xf340b9f2098f80b86fbc5ede586c319473aa11f3\n",
            "   Fetched 100 transactions.\n",
            "[98/103] Fetching: 0xf54f36bca969800fd7d63a68029561309938c09b\n",
            "   Fetched 4 transactions.\n",
            "[99/103] Fetching: 0xf60304b534f74977e159b2e159e135475c245526\n",
            "   Fetched 18 transactions.\n",
            "[100/103] Fetching: 0xf67e8e5805835465f7eba988259db882ab726800\n",
            "   Fetched 4 transactions.\n",
            "[101/103] Fetching: 0xf7aa5d0752cfcd41b0a5945867d619a80c405e52\n",
            "   Fetched 4 transactions.\n",
            "[102/103] Fetching: 0xf80a8b9cfff0febf49914c269fb8aead4a22f847\n",
            "   Fetched 13 transactions.\n",
            "[103/103] Fetching: 0xfe5a05c0f8b24fca15a7306f6a4ebb7dcf2186ac\n",
            "   Fetched 4 transactions.\n",
            "\n",
            "All transactions fetched and saved to wallet_transactions.json\n"
          ]
        }
      ]
    },
    {
      "cell_type": "markdown",
      "source": [
        "transactions saved to csv"
      ],
      "metadata": {
        "id": "uyzBeoJWDH_k"
      }
    },
    {
      "cell_type": "code",
      "source": [
        "import json\n",
        "import pandas as pd\n",
        "\n",
        "with open('/content/wallet_transactions.json', 'r') as f:\n",
        "    wallet_transactions = json.load(f)\n",
        "\n",
        "all_transactions = []\n",
        "\n",
        "for wallet, txns in wallet_transactions.items():\n",
        "    for tx in txns:\n",
        "        all_transactions.append({\n",
        "            \"wallet_address\": wallet,\n",
        "            \"tx_hash\": tx.get(\"tx_hash\"),\n",
        "            \"block_signed_at\": tx.get(\"block_signed_at\"),\n",
        "            \"from_address\": tx.get(\"from_address\"),\n",
        "            \"to_address\": tx.get(\"to_address\"),\n",
        "            \"value\": int(tx.get(\"value\", 0)),\n",
        "            \"gas_spent\": int(tx.get(\"gas_spent\", 0)),\n",
        "            \"gas_price\": int(tx.get(\"gas_price\", 0)),\n",
        "            \"successful\": tx.get(\"successful\"),\n",
        "            \"contract_address\": tx.get(\"contract_address\"),\n",
        "            \"tx_type\": tx.get(\"tx_type\"),\n",
        "            \"fees_paid\": int(tx.get(\"gas_spent\", 0)) * int(tx.get(\"gas_price\", 0)) / 1e18  # in ETH\n",
        "        })\n",
        "\n",
        "df = pd.DataFrame(all_transactions)\n",
        "\n",
        "csv_path = \"/content/all_wallet_transactions.csv\"\n",
        "df.to_csv(csv_path, index=False)\n",
        "\n",
        "print(f\" Saved {len(df)} transactions to {csv_path}\")\n"
      ],
      "metadata": {
        "colab": {
          "base_uri": "https://localhost:8080/"
        },
        "id": "xmCakHju-g1G",
        "outputId": "0c73c380-2282-44a2-99cd-5693948799e1"
      },
      "execution_count": 45,
      "outputs": [
        {
          "output_type": "stream",
          "name": "stdout",
          "text": [
            " Saved 2823 transactions to /content/all_wallet_transactions.csv\n"
          ]
        }
      ]
    },
    {
      "cell_type": "markdown",
      "source": [
        "Feature Extraction from Wallet Transactions"
      ],
      "metadata": {
        "id": "vtojjYSqC4i5"
      }
    },
    {
      "cell_type": "code",
      "source": [
        "import pandas as pd\n",
        "import numpy as np\n",
        "from datetime import datetime\n",
        "\n",
        "df = pd.read_csv('/content/all_wallet_transactions.csv')\n",
        "\n",
        "df['block_signed_at'] = pd.to_datetime(df['block_signed_at'])\n",
        "\n",
        "numeric_cols = ['value', 'fees_paid', 'gas_spent', 'gas_price']\n",
        "for col in numeric_cols:\n",
        "    df[col] = pd.to_numeric(df[col], errors='coerce').fillna(0)\n",
        "\n",
        "features = []\n",
        "\n",
        "for wallet, group in df.groupby(\"wallet_address\"):\n",
        "    total_txns = len(group)\n",
        "    total_value = group[\"value\"].sum() / 1e18\n",
        "    total_fees = group[\"fees_paid\"].sum()\n",
        "    avg_fee = group[\"fees_paid\"].mean()\n",
        "\n",
        "    unique_addresses = pd.concat([group[\"from_address\"], group[\"to_address\"]]).nunique()\n",
        "\n",
        "    success_rate = group[\"successful\"].mean() if \"successful\" in group.columns else np.nan\n",
        "\n",
        "    active_days = (group[\"block_signed_at\"].max() - group[\"block_signed_at\"].min()).days + 1\n",
        "\n",
        "    avg_gas_spent = group[\"gas_spent\"].mean()\n",
        "    avg_gas_price = group[\"gas_price\"].mean()\n",
        "\n",
        "    features.append({\n",
        "        \"wallet_address\": wallet,\n",
        "        \"total_txns\": total_txns,\n",
        "        \"total_value_eth\": total_value,\n",
        "        \"total_fees_eth\": total_fees,\n",
        "        \"avg_fee_eth\": avg_fee,\n",
        "        \"unique_addresses\": unique_addresses,\n",
        "        \"success_rate\": success_rate,\n",
        "        \"active_days\": active_days,\n",
        "        \"avg_gas_spent\": avg_gas_spent,\n",
        "        \"avg_gas_price\": avg_gas_price,\n",
        "    })\n",
        "\n",
        "features_df = pd.DataFrame(features)\n",
        "features_df.to_csv(\"/content/wallet_features.csv\", index=False)\n",
        "\n",
        "print(\" Feature extraction complete. Saved to /content/wallet_features.csv\")\n"
      ],
      "metadata": {
        "colab": {
          "base_uri": "https://localhost:8080/"
        },
        "id": "A66YmMOD-p4Y",
        "outputId": "aab434e7-2f31-4767-a739-dadd485fa066"
      },
      "execution_count": 46,
      "outputs": [
        {
          "output_type": "stream",
          "name": "stdout",
          "text": [
            " Feature extraction complete. Saved to /content/wallet_features.csv\n"
          ]
        }
      ]
    },
    {
      "cell_type": "markdown",
      "source": [
        "Normalize Features & Assign Risk Scores (0–1000)"
      ],
      "metadata": {
        "id": "2deMB9zKDbiu"
      }
    },
    {
      "cell_type": "code",
      "source": [
        "import pandas as pd\n",
        "from sklearn.preprocessing import MinMaxScaler\n",
        "\n",
        "df = pd.read_csv(\"/content/wallet_features.csv\")\n",
        "\n",
        "feature_columns = [\n",
        "    \"total_txns\",\n",
        "    \"total_value_eth\",\n",
        "    \"total_fees_eth\",\n",
        "    \"avg_fee_eth\",\n",
        "    \"unique_addresses\",\n",
        "    \"success_rate\",\n",
        "    \"active_days\",\n",
        "    \"avg_gas_spent\",\n",
        "    \"avg_gas_price\",\n",
        "]\n",
        "\n",
        "df[feature_columns] = df[feature_columns].fillna(0)\n",
        "\n",
        "scaler = MinMaxScaler()\n",
        "normalized_features = scaler.fit_transform(df[feature_columns])\n",
        "\n",
        "df[\"risk_score\"] = (normalized_features.mean(axis=1) * 1000).round().astype(int)\n",
        "\n",
        "df[[\"wallet_address\", \"risk_score\"]].to_csv(\"/content/wallet_risk_scores.csv\", index=False)\n",
        "\n",
        "print(\" Risk scores assigned and saved to /content/wallet_risk_scores.csv\")\n"
      ],
      "metadata": {
        "colab": {
          "base_uri": "https://localhost:8080/"
        },
        "id": "NS879cZM-2eD",
        "outputId": "e2bce90a-ee92-42dd-ed6f-79edaf6dd2a1"
      },
      "execution_count": 47,
      "outputs": [
        {
          "output_type": "stream",
          "name": "stdout",
          "text": [
            " Risk scores assigned and saved to /content/wallet_risk_scores.csv\n"
          ]
        }
      ]
    },
    {
      "cell_type": "markdown",
      "source": [
        "Visualize the Risk Score Distribution"
      ],
      "metadata": {
        "id": "alRNlsPQDgkC"
      }
    },
    {
      "cell_type": "code",
      "source": [
        "import pandas as pd\n",
        "import matplotlib.pyplot as plt\n",
        "import seaborn as sns\n",
        "\n",
        "df = pd.read_csv(\"/content/wallet_risk_scores.csv\")\n",
        "\n",
        "plt.figure(figsize=(10, 6))\n",
        "sns.histplot(df[\"risk_score\"], bins=20, kde=True, color='skyblue')\n",
        "plt.title(\"Risk Score Distribution\")\n",
        "plt.xlabel(\"Risk Score (0–1000)\")\n",
        "plt.ylabel(\"Number of Wallets\")\n",
        "plt.grid(True)\n",
        "plt.show()\n"
      ],
      "metadata": {
        "colab": {
          "base_uri": "https://localhost:8080/",
          "height": 564
        },
        "id": "UcMxzOZW_2sS",
        "outputId": "269c6bbe-0ca8-45c9-c9f8-0f5ed1d0caf9"
      },
      "execution_count": 48,
      "outputs": [
        {
          "output_type": "display_data",
          "data": {
            "text/plain": [
              "<Figure size 1000x600 with 1 Axes>"
            ],
            "image/png": "[encoded data removed]"
          },
          "metadata": {}
        }
      ]
    },
    {
      "cell_type": "markdown",
      "source": [
        "Checking the Columns"
      ],
      "metadata": {
        "id": "E4iIJh8FDmC6"
      }
    },
    {
      "cell_type": "code",
      "source": [
        "import pandas as pd\n",
        "\n",
        "df = pd.read_csv(\"/content/wallet_risk_scores.csv\")\n",
        "print(df.columns)\n",
        "print(df.head())\n"
      ],
      "metadata": {
        "colab": {
          "base_uri": "https://localhost:8080/"
        },
        "id": "FyNkOVyT_6-v",
        "outputId": "5b57f570-574e-45fb-aedf-2478d5753268"
      },
      "execution_count": 49,
      "outputs": [
        {
          "output_type": "stream",
          "name": "stdout",
          "text": [
            "Index(['wallet_address', 'risk_score'], dtype='object')\n",
            "                               wallet_address  risk_score\n",
            "0  0x0039f22efb07a647557c7c5d17854cfd6d489ef3         663\n",
            "1  0x06b51c6882b27cb05e712185531c1f74996dd988         167\n",
            "2  0x0795732aacc448030ef374374eaae57d2965c16c         173\n",
            "3  0x0aaa79f1a86bc8136cd0d1ca0d51964f4e3766f9         622\n",
            "4  0x0fe383e5abc200055a7f391f94a5f5d1f844b9ae         168\n"
          ]
        }
      ]
    },
    {
      "cell_type": "markdown",
      "source": [
        "Value Range Check"
      ],
      "metadata": {
        "id": "5oJWp_1ADpza"
      }
    },
    {
      "cell_type": "code",
      "source": [
        "print(\"Min Score:\", df[\"risk_score\"].min())\n",
        "print(\"Max Score:\", df[\"risk_score\"].max())\n",
        "print(\"Null values:\\n\", df.isnull().sum())"
      ],
      "metadata": {
        "colab": {
          "base_uri": "https://localhost:8080/"
        },
        "id": "fiyDTIEPAIlU",
        "outputId": "66d62f65-4194-4d7e-ae05-23e6b53831f1"
      },
      "execution_count": 50,
      "outputs": [
        {
          "output_type": "stream",
          "name": "stdout",
          "text": [
            "Min Score: 120\n",
            "Max Score: 663\n",
            "Null values:\n",
            " wallet_address    0\n",
            "risk_score        0\n",
            "dtype: int64\n"
          ]
        }
      ]
    },
    {
      "cell_type": "markdown",
      "source": [
        "Row Count Validation"
      ],
      "metadata": {
        "id": "1Fh-s3znDvN9"
      }
    },
    {
      "cell_type": "code",
      "source": [
        "print(\"Unique wallets:\", df[\"wallet_address\"].nunique())\n",
        "print(\"Total rows:\", len(df))"
      ],
      "metadata": {
        "colab": {
          "base_uri": "https://localhost:8080/"
        },
        "id": "oy0iX7k-AJxH",
        "outputId": "1a1874b5-de64-455f-c7b1-79b356e75c21"
      },
      "execution_count": 51,
      "outputs": [
        {
          "output_type": "stream",
          "name": "stdout",
          "text": [
            "Unique wallets: 103\n",
            "Total rows: 103\n"
          ]
        }
      ]
    },
    {
      "cell_type": "markdown",
      "source": [
        "Checking a Few Wallets"
      ],
      "metadata": {
        "id": "yhfV50R8DzrB"
      }
    },
    {
      "cell_type": "code",
      "source": [
        "features_df = pd.read_csv(\"/content/wallet_features.csv\")\n",
        "sample_wallet = df.iloc[0][\"wallet_address\"]\n",
        "print(\"Sample wallet:\", sample_wallet)\n",
        "\n",
        "print(\"\\nFeatures:\\n\", features_df[features_df[\"wallet_address\"] == sample_wallet])\n",
        "print(\"\\nScore:\\n\", df[df[\"wallet_address\"] == sample_wallet])\n"
      ],
      "metadata": {
        "colab": {
          "base_uri": "https://localhost:8080/"
        },
        "id": "e6WlJxa9AK0d",
        "outputId": "5f7a5efb-2dd8-4b73-b050-99ad1dbb7155"
      },
      "execution_count": 52,
      "outputs": [
        {
          "output_type": "stream",
          "name": "stdout",
          "text": [
            "Sample wallet: 0x0039f22efb07a647557c7c5d17854cfd6d489ef3\n",
            "\n",
            "Features:\n",
            "                                wallet_address  total_txns  total_value_eth  \\\n",
            "0  0x0039f22efb07a647557c7c5d17854cfd6d489ef3         100        52.254641   \n",
            "\n",
            "   total_fees_eth  avg_fee_eth  unique_addresses  success_rate  active_days  \\\n",
            "0        2.377481     0.023775               157          0.99          795   \n",
            "\n",
            "   avg_gas_spent  avg_gas_price  \n",
            "0     2358265.53   2.052649e+10  \n",
            "\n",
            "Score:\n",
            "                                wallet_address  risk_score\n",
            "0  0x0039f22efb07a647557c7c5d17854cfd6d489ef3         663\n"
          ]
        }
      ]
    },
    {
      "cell_type": "markdown",
      "source": [
        "RandomForestRegressor Model"
      ],
      "metadata": {
        "id": "29fpkb9pD46i"
      }
    },
    {
      "cell_type": "code",
      "source": [
        "import pandas as pd\n",
        "from sklearn.model_selection import train_test_split\n",
        "from sklearn.ensemble import RandomForestRegressor\n",
        "\n",
        "features_df = pd.read_csv(\"/content/wallet_features.csv\")\n",
        "scores_df = pd.read_csv(\"/content/wallet_risk_scores.csv\")\n",
        "\n",
        "df = pd.merge(features_df, scores_df, on=\"wallet_address\")\n",
        "\n",
        "X = df.drop([\"wallet_address\", \"risk_score\"], axis=1)\n",
        "y = df[\"risk_score\"]\n",
        "\n",
        "X_train, X_test, y_train, y_test = train_test_split(X, y, test_size=0.2, random_state=7)\n",
        "\n",
        "model = RandomForestRegressor(n_estimators=100, random_state=7)\n",
        "model.fit(X_train, y_train)\n",
        "\n",
        "print(\"Model R² on test set:\", model.score(X_test, y_test))\n"
      ],
      "metadata": {
        "colab": {
          "base_uri": "https://localhost:8080/"
        },
        "id": "YbnTVVAPAO4y",
        "outputId": "f82195b6-723f-4365-8a66-bde3298f1736"
      },
      "execution_count": 53,
      "outputs": [
        {
          "output_type": "stream",
          "name": "stdout",
          "text": [
            "Model R² on test set: 0.926905745927994\n"
          ]
        }
      ]
    },
    {
      "cell_type": "code",
      "source": [
        "import matplotlib.pyplot as plt\n",
        "\n",
        "y_pred = model.predict(X_test)\n",
        "plt.scatter(y_test, y_pred, alpha=0.7)\n",
        "plt.xlabel(\"Actual Risk Score\")\n",
        "plt.ylabel(\"Predicted Risk Score\")\n",
        "plt.title(\"Model Prediction vs True\")\n",
        "plt.grid(True)\n",
        "plt.show()\n"
      ],
      "metadata": {
        "colab": {
          "base_uri": "https://localhost:8080/",
          "height": 472
        },
        "id": "OqiPdb_MAbds",
        "outputId": "f8913bd3-54e2-4dd0-984c-20e03ebc275f"
      },
      "execution_count": 54,
      "outputs": [
        {
          "output_type": "display_data",
          "data": {
            "text/plain": [
              "<Figure size 640x480 with 1 Axes>"
            ],
            "image/png": "[encoded data removed]"
          },
          "metadata": {}
        }
      ]
    },
    {
      "cell_type": "code",
      "source": [
        "from sklearn.model_selection import cross_val_score\n",
        "model = RandomForestRegressor()\n",
        "scores = cross_val_score(model, X, y, cv=5, scoring='r2')\n",
        "print(\"Cross-val R² scores:\", scores)\n",
        "print(\"Mean R²:\", scores.mean())"
      ],
      "metadata": {
        "colab": {
          "base_uri": "https://localhost:8080/"
        },
        "id": "EPZ3jdykEAas",
        "outputId": "6bab760a-d5e9-49a8-bb78-c1f2d5d2f46e"
      },
      "execution_count": 55,
      "outputs": [
        {
          "output_type": "stream",
          "name": "stdout",
          "text": [
            "Cross-val R² scores: [0.92212881 0.96914251 0.86078308 0.86923121 0.93553862]\n",
            "Mean R²: 0.9113648478261744\n"
          ]
        }
      ]
    },
    {
      "cell_type": "code",
      "source": [
        "import pandas as pd\n",
        "import matplotlib.pyplot as plt\n",
        "import seaborn as sns\n",
        "\n",
        "final_df = pd.read_csv(\"/content/wallet_risk_scores.csv\")"
      ],
      "metadata": {
        "id": "UQ426YVWAdst"
      },
      "execution_count": 56,
      "outputs": []
    },
    {
      "cell_type": "code",
      "source": [
        "sns.histplot(final_df[\"risk_score\"], bins=20, kde=True, color='skyblue')\n",
        "plt.title(\"Distribution of Wallet Risk Scores\")\n",
        "plt.xlabel(\"Risk Score\")\n",
        "plt.ylabel(\"Number of Wallets\")\n",
        "plt.show()"
      ],
      "metadata": {
        "colab": {
          "base_uri": "https://localhost:8080/",
          "height": 472
        },
        "id": "_OxLjT5lBaK3",
        "outputId": "2655bde5-f41a-4392-963e-dbffdbd7407c"
      },
      "execution_count": 57,
      "outputs": [
        {
          "output_type": "display_data",
          "data": {
            "text/plain": [
              "<Figure size 640x480 with 1 Axes>"
            ],
            "image/png": "[encoded data removed]"
          },
          "metadata": {}
        }
      ]
    }
  ]
}